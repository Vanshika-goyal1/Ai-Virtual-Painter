{
 "cells": [
  {
   "cell_type": "code",
   "execution_count": 12,
   "id": "4dc6cd42-f331-4f33-a668-a0d77d2af72f",
   "metadata": {},
   "outputs": [],
   "source": [
    "import cv2\n",
    "import numpy as np\n",
    "import mediapipe as mp\n",
    "import time\n",
    "import os\n",
    "import HandTrackingModule as htm"
   ]
  },
  {
   "cell_type": "code",
   "execution_count": 13,
   "id": "dfbf84a9-b5f8-488a-b432-41fb7d6284cc",
   "metadata": {},
   "outputs": [
    {
     "name": "stdout",
     "output_type": "stream",
     "text": [
      "[]\n",
      "0\n"
     ]
    }
   ],
   "source": [
    "folderPath = \"Header\"\n",
    "myList = os.listdir(folderPath)\n",
    "print(myList)\n",
    "overLayList = []\n",
    "for imPath in myList:\n",
    "    image = cv2.imread('{folderPath}/{imPath}')\n",
    "    overLayList.append(image)\n",
    "print(len(overLayList))"
   ]
  },
  {
   "cell_type": "code",
   "execution_count": 14,
   "id": "6ae40edf-f52a-4c54-912f-5ea90533af4a",
   "metadata": {},
   "outputs": [],
   "source": [
    "\n",
    "class handDetector:\n",
    "    def __init__(self, mode=False, maxHands=2, detectionCon=0.5, trackCon=0.5):\n",
    "        self.mode = mode\n",
    "        self.maxHands = maxHands\n",
    "        self.detectionCon = detectionCon\n",
    "        self.trackCon = trackCon\n",
    "        \n",
    "        self.mpHands = mp.solutions.hands\n",
    "        self.hands = self.mpHands.Hands(\n",
    "            static_image_mode=self.mode,\n",
    "            max_num_hands=self.maxHands,\n",
    "            min_detection_confidence=float(self.detectionCon),\n",
    "            min_tracking_confidence=float(self.trackCon)\n",
    "        )\n",
    "        self.mpDraw = mp.solutions.drawing_utils\n",
    "\n",
    "    def findHands(self, img, draw=True):\n",
    "        imgRGB = cv2.cvtColor(img, cv2.COLOR_BGR2RGB)\n",
    "        self.results = self.hands.process(imgRGB)\n",
    "        if self.results.multi_hand_landmarks:\n",
    "            for handLms in self.results.multi_hand_landmarks:\n",
    "                if draw:\n",
    "                    self.mpDraw.draw_landmarks(img, handLms, self.mpHands.HAND_CONNECTIONS)\n",
    "        return img\n",
    "\n",
    "    def findPosition(self, img, handNo=0, draw= True ):\n",
    "        lmList = []\n",
    "        if self.results.multi_hand_landmarks:\n",
    "            myHand = self.results.multi_hand_landmarks[handNo] \n",
    "            for id, lm in enumerate(myHand.landmark):\n",
    "                # print(id,lm)\n",
    "                h, w, c =img.shape\n",
    "                cx, cy = int(lm.x * w),int(lm.y * h)\n",
    "                lmList.append([id, cx, cy])\n",
    "                if draw:\n",
    "                    cv2.circle(img, (cx, cy),15, (255,0,255), cv2.FILLED)      \n",
    "            return lmList"
   ]
  },
  {
   "cell_type": "code",
   "execution_count": 15,
   "id": "bd948369-95f4-483d-ba52-6f1361953f01",
   "metadata": {},
   "outputs": [
    {
     "ename": "KeyboardInterrupt",
     "evalue": "",
     "output_type": "error",
     "traceback": [
      "\u001b[1;31m---------------------------------------------------------------------------\u001b[0m",
      "\u001b[1;31mKeyboardInterrupt\u001b[0m                         Traceback (most recent call last)",
      "Cell \u001b[1;32mIn[15], line 22\u001b[0m\n\u001b[0;32m     13\u001b[0m img \u001b[38;5;241m=\u001b[39m cv2\u001b[38;5;241m.\u001b[39mflip(img,\u001b[38;5;241m1\u001b[39m)\n\u001b[0;32m     15\u001b[0m \u001b[38;5;66;03m# 2. Find Hand Landmarks\u001b[39;00m\n\u001b[0;32m     16\u001b[0m \u001b[38;5;66;03m# 3. Check which fingers are up.\u001b[39;00m\n\u001b[0;32m     17\u001b[0m \u001b[38;5;66;03m# 4. If Selection mode - Two fingers are up.\u001b[39;00m\n\u001b[1;32m   (...)\u001b[0m\n\u001b[0;32m     20\u001b[0m \u001b[38;5;66;03m# Setting  the header image\u001b[39;00m\n\u001b[0;32m     21\u001b[0m \u001b[38;5;66;03m# img[0:125,0:1280] = header\u001b[39;00m\n\u001b[1;32m---> 22\u001b[0m cv2\u001b[38;5;241m.\u001b[39mimshow(\u001b[38;5;124m\"\u001b[39m\u001b[38;5;124mImage\u001b[39m\u001b[38;5;124m\"\u001b[39m , img)\n\u001b[0;32m     23\u001b[0m cv2\u001b[38;5;241m.\u001b[39mwaitKey(\u001b[38;5;241m1\u001b[39m)\n",
      "\u001b[1;31mKeyboardInterrupt\u001b[0m: "
     ]
    }
   ],
   "source": [
    "# header = overLayList[0]\n",
    "\n",
    "cap = cv2.VideoCapture(0)\n",
    "cap.set(3,1280)\n",
    "cap.set(4,720)\n",
    "\n",
    "detector = handDetector(detectionCon = 0.85)\n",
    "\n",
    "while True:\n",
    "\n",
    "    # 1. Import Image\n",
    "    success, img = cap.read()\n",
    "    img = cv2.flip(img,1)\n",
    "\n",
    "    # 2. Find Hand Landmarks\n",
    "    # 3. Check which fingers are up.\n",
    "    # 4. If Selection mode - Two fingers are up.\n",
    "    # 5. If Selection mode - Index finger is up.\n",
    "\n",
    "    # Setting  the header image\n",
    "    # img[0:125,0:1280] = header\n",
    "    cv2.imshow(\"Image\" , img)\n",
    "    cv2.waitKey(1)"
   ]
  }
 ],
 "metadata": {
  "kernelspec": {
   "display_name": "Python 3 (ipykernel)",
   "language": "python",
   "name": "python3"
  },
  "language_info": {
   "codemirror_mode": {
    "name": "ipython",
    "version": 3
   },
   "file_extension": ".py",
   "mimetype": "text/x-python",
   "name": "python",
   "nbconvert_exporter": "python",
   "pygments_lexer": "ipython3",
   "version": "3.11.9"
  }
 },
 "nbformat": 4,
 "nbformat_minor": 5
}
