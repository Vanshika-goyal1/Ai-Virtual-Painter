{
 "cells": [
  {
   "cell_type": "code",
   "execution_count": 10,
   "id": "3e060509-bc17-4442-b505-84aadf99e509",
   "metadata": {},
   "outputs": [],
   "source": [
    "import sys\n",
    "sys.path.append('Ai Virtual Painter')  # Replace <path_to_your_folder> with the actual path\n",
    "import cv2\n",
    "import mediapipe as mp\n",
    "import time\n",
    "import HandTrackingModule as htm"
   ]
  },
  {
   "cell_type": "code",
   "execution_count": 9,
   "id": "39effd78-e88c-4abb-8998-084c2ae7c42d",
   "metadata": {},
   "outputs": [
    {
     "ename": "AttributeError",
     "evalue": "module 'HandTrackingModule' has no attribute 'handDetector'",
     "output_type": "error",
     "traceback": [
      "\u001b[1;31m---------------------------------------------------------------------------\u001b[0m",
      "\u001b[1;31mAttributeError\u001b[0m                            Traceback (most recent call last)",
      "Cell \u001b[1;32mIn[9], line 4\u001b[0m\n\u001b[0;32m      2\u001b[0m cTime\u001b[38;5;241m=\u001b[39m\u001b[38;5;241m0\u001b[39m\n\u001b[0;32m      3\u001b[0m cap\u001b[38;5;241m=\u001b[39mcv2\u001b[38;5;241m.\u001b[39mVideoCapture(\u001b[38;5;241m0\u001b[39m)\n\u001b[1;32m----> 4\u001b[0m detector\u001b[38;5;241m=\u001b[39mhtm\u001b[38;5;241m.\u001b[39mhandDetector(detectionCon\u001b[38;5;241m=\u001b[39m\u001b[38;5;241m0.5\u001b[39m, trackCon\u001b[38;5;241m=\u001b[39m\u001b[38;5;241m0.5\u001b[39m)\n\u001b[0;32m      5\u001b[0m \u001b[38;5;28;01mwhile\u001b[39;00m \u001b[38;5;28;01mTrue\u001b[39;00m:\n\u001b[0;32m      6\u001b[0m     sucess, img\u001b[38;5;241m=\u001b[39mcap\u001b[38;5;241m.\u001b[39mread()\n",
      "\u001b[1;31mAttributeError\u001b[0m: module 'HandTrackingModule' has no attribute 'handDetector'"
     ]
    }
   ],
   "source": [
    "pTime=0\n",
    "cTime=0\n",
    "cap=cv2.VideoCapture(0)\n",
    "detector=htm.handDetector(detectionCon=0.5, trackCon=0.5)\n",
    "while True:\n",
    "    sucess, img=cap.read()\n",
    "    img=detector.findHands(img, draw=True)\n",
    "    lmList = detector.findPosition(img, draw = True)\n",
    "    if lmList and len(lmList) > 4:\n",
    "        print(lmList[4])\n",
    "    \n",
    "    cTime=time.time()\n",
    "    fps=1/(cTime-pTime)\n",
    "    pTime=cTime\n",
    "    cv2.putText(img,str(int(fps)),(10,70),cv2.FONT_HERSHEY_PLAIN,3,(255,0,255),3)\n",
    "    cv2.imshow(\"Image\",img)\n",
    "    if cv2.waitKey(1)& 0xFF == ord('q'):\n",
    "        break\n",
    "\n",
    "cap.release()\n",
    "cv2.destroyAllWindows()"
   ]
  },
  {
   "cell_type": "code",
   "execution_count": 11,
   "id": "e6b02b63-2baf-4936-b176-c06a4f2aa582",
   "metadata": {},
   "outputs": [
    {
     "name": "stdout",
     "output_type": "stream",
     "text": [
      "['__builtins__', '__cached__', '__doc__', '__file__', '__loader__', '__name__', '__package__', '__spec__']\n"
     ]
    }
   ],
   "source": [
    "print(dir(htm))\n"
   ]
  },
  {
   "cell_type": "code",
   "execution_count": null,
   "id": "90b19fb1-2702-4a0b-a2a6-d1da7b0e8eea",
   "metadata": {},
   "outputs": [],
   "source": []
  }
 ],
 "metadata": {
  "kernelspec": {
   "display_name": "Python 3 (ipykernel)",
   "language": "python",
   "name": "python3"
  },
  "language_info": {
   "codemirror_mode": {
    "name": "ipython",
    "version": 3
   },
   "file_extension": ".py",
   "mimetype": "text/x-python",
   "name": "python",
   "nbconvert_exporter": "python",
   "pygments_lexer": "ipython3",
   "version": "3.11.9"
  }
 },
 "nbformat": 4,
 "nbformat_minor": 5
}
